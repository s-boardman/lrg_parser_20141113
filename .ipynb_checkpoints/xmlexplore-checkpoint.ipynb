{
 "metadata": {
  "name": ""
 },
 "nbformat": 3,
 "nbformat_minor": 0,
 "worksheets": [
  {
   "cells": [
    {
     "cell_type": "code",
     "collapsed": false,
     "input": [
      "import xml.etree.ElementTree as ET"
     ],
     "language": "python",
     "metadata": {},
     "outputs": [],
     "prompt_number": 13
    },
    {
     "cell_type": "code",
     "collapsed": false,
     "input": [
      "tree = ET.parse('LRG_292.xml')"
     ],
     "language": "python",
     "metadata": {},
     "outputs": [],
     "prompt_number": 14
    },
    {
     "cell_type": "code",
     "collapsed": false,
     "input": [
      "root = tree.getroot()"
     ],
     "language": "python",
     "metadata": {},
     "outputs": [],
     "prompt_number": 27
    },
    {
     "cell_type": "code",
     "collapsed": false,
     "input": [
      "print root.tag, root.attrib"
     ],
     "language": "python",
     "metadata": {},
     "outputs": [
      {
       "output_type": "stream",
       "stream": "stdout",
       "text": [
        "lrg {'schema_version': '1.8'}\n"
       ]
      }
     ],
     "prompt_number": 28
    },
    {
     "cell_type": "code",
     "collapsed": false,
     "input": [
      "def seq_retrieve(tree_at_root):\n",
      "    '''Takes a tree parsed with xml.etree at the root node\n",
      "    and returns a dictionary with tuples of sequence type and sequence'''\n",
      "    seq_dict = {}\n",
      "    for child in root.findall('fixed_annotation'):\n",
      "        for grand in child.findall('sequence'): #Identify genomic sequence element\n",
      "            # Add genomic sequence to seq_dict\n",
      "            seq_dict['genomic'] = grand.text\n",
      "            print 'gDNA length:', len(grand.text)\n",
      "        for grand in child.findall('transcript'): #Identify transcript element\n",
      "            for great in grand.findall('cdna'): #Identify cdna element\n",
      "                #print great.tag\n",
      "                #Addd cDNA sequence to seq_dict\n",
      "                for greatggc in great.findall('sequence'):\n",
      "                    seq_dict['cDNA'] = greatggc.text\n",
      "                    print 'cDNA length:', len(greatggc.text)\n",
      "            for great in grand.findall('coding_region'):\n",
      "                for greatggc in great.findall('translation'):\n",
      "                    for greatgggc in greatggc:\n",
      "                        #Add protein sequence to seq_dict\n",
      "                        if greatgggc.tag == 'sequence':\n",
      "                            seq_dict['protein'] = greatgggc.text\n",
      "                            print 'Protein length:', len(greatgggc.text)\n",
      "    return seq_dict\n",
      "            \n",
      "                    \n",
      "seq_dict = seq_retrieve(root)\n",
      "print 'Length of seq_dict: ', len(seq_dict)"
     ],
     "language": "python",
     "metadata": {},
     "outputs": [
      {
       "output_type": "stream",
       "stream": "stdout",
       "text": [
        "gDNA length: 193689\n",
        "cDNA length: 7207\n",
        "Protein length: 1863\n",
        "Length of seq_dict:  3\n"
       ]
      }
     ],
     "prompt_number": 54
    },
    {
     "cell_type": "code",
     "collapsed": false,
     "input": [
      "def seq_retrieve(tree_at_root):\n",
      "    '''Takes a tree parsed with xml.etree at the root node\n",
      "    and returns a dictionary with tuples of sequence type and sequence'''\n",
      "    seq_dict = {}\n",
      "    l0 = tree_at_root\n",
      "    for l1 in l0.findall('fixed_annotation'):\n",
      "        for l2 in l1.findall('sequence'): #Identify genomic sequence element\n",
      "            # Add genomic sequence to seq_dict\n",
      "            seq_dict['genomic'] = l2.text\n",
      "            print 'gDNA length:', len(l2.text)\n",
      "        for l2 in l1.findall('transcript'): #Identify transcript element\n",
      "            for l3 in l2.findall('cdna'): #Identify cdna element\n",
      "                #print great.tag\n",
      "                #Add cDNA sequence to seq_dict\n",
      "                for l4 in l3.findall('sequence'):\n",
      "                    seq_dict['cDNA'] = l4.text\n",
      "                    print 'cDNA length:', len(l4.text)\n",
      "            for l3 in l2.findall('coding_region'):\n",
      "                for l4 in l3.findall('translation'):\n",
      "                    for l5 in l4:\n",
      "                        #Add protein sequence to seq_dict\n",
      "                        if l5.tag == 'sequence':\n",
      "                            seq_dict['protein'] = l5.text\n",
      "                            print 'Protein length:', len(l5.text)\n",
      "    return seq_dict\n",
      "            \n",
      "                    \n",
      "seq_dict = seq_retrieve(root)\n",
      "print 'Length of seq_dict: ', len(seq_dict)"
     ],
     "language": "python",
     "metadata": {},
     "outputs": [
      {
       "output_type": "stream",
       "stream": "stdout",
       "text": [
        "gDNA length: 193689\n",
        "cDNA length: 7207\n",
        "Protein length: 1863\n",
        "Length of seq_dict:  3\n"
       ]
      }
     ],
     "prompt_number": 61
    },
    {
     "cell_type": "code",
     "collapsed": false,
     "input": [],
     "language": "python",
     "metadata": {},
     "outputs": []
    }
   ],
   "metadata": {}
  }
 ]
}