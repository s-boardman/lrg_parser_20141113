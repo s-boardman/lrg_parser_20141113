{
 "metadata": {
  "name": ""
 },
 "nbformat": 3,
 "nbformat_minor": 0,
 "worksheets": [
  {
   "cells": [
    {
     "cell_type": "code",
     "collapsed": false,
     "input": [
      "import xml.etree.ElementTree as ET"
     ],
     "language": "python",
     "metadata": {},
     "outputs": [],
     "prompt_number": 1
    },
    {
     "cell_type": "code",
     "collapsed": false,
     "input": [
      "tree = ET.parse('LRG_292.xml')"
     ],
     "language": "python",
     "metadata": {},
     "outputs": [],
     "prompt_number": 2
    },
    {
     "cell_type": "code",
     "collapsed": false,
     "input": [
      "root = tree.getroot()"
     ],
     "language": "python",
     "metadata": {},
     "outputs": [],
     "prompt_number": 20
    },
    {
     "cell_type": "code",
     "collapsed": false,
     "input": [
      "print root.attrib"
     ],
     "language": "python",
     "metadata": {},
     "outputs": [
      {
       "output_type": "stream",
       "stream": "stdout",
       "text": [
        "{'schema_version': '1.8'}\n"
       ]
      }
     ],
     "prompt_number": 21
    },
    {
     "cell_type": "code",
     "collapsed": false,
     "input": [
      "for child in root:\n",
      "        #print type(child)\n",
      "    \t#print \"tag=\",child.tag, \" attrib=\",child.attrib\n",
      "        for c in child:\n",
      "            print type(c)\n",
      "            print \"tag=\",c.tag, \" attrib=\",c.attrib, c.getchildren"
     ],
     "language": "python",
     "metadata": {},
     "outputs": [
      {
       "output_type": "stream",
       "stream": "stdout",
       "text": [
        "<class 'xml.etree.ElementTree.Element'>\n",
        "tag= id  attrib= {} <bound method Element.getchildren of <Element 'id' at 0xaa6276c>>\n",
        "<class 'xml.etree.ElementTree.Element'>\n",
        "tag= hgnc_id  attrib= {} <bound method Element.getchildren of <Element 'hgnc_id' at 0xaa6280c>>\n",
        "<class 'xml.etree.ElementTree.Element'>\n",
        "tag= sequence_source  attrib= {} <bound method Element.getchildren of <Element 'sequence_source' at 0xaa6286c>>\n",
        "<class 'xml.etree.ElementTree.Element'>\n",
        "tag= organism  attrib= {'taxon': '9606'} <bound method Element.getchildren of <Element 'organism' at 0xaa628ec>>\n",
        "<class 'xml.etree.ElementTree.Element'>\n",
        "tag= source  attrib= {} <bound method Element.getchildren of <Element 'source' at 0xaa629ac>>\n",
        "<class 'xml.etree.ElementTree.Element'>\n",
        "tag= source  attrib= {} <bound method Element.getchildren of <Element 'source' at 0xaa62c4c>>\n",
        "<class 'xml.etree.ElementTree.Element'>\n",
        "tag= mol_type  attrib= {} <bound method Element.getchildren of <Element 'mol_type' at 0xaa62e4c>>\n",
        "<class 'xml.etree.ElementTree.Element'>\n",
        "tag= creation_date  attrib= {} <bound method Element.getchildren of <Element 'creation_date' at 0xaa62e8c>>\n",
        "<class 'xml.etree.ElementTree.Element'>\n",
        "tag= sequence  attrib= {} <bound method Element.getchildren of <Element 'sequence' at 0xaa62f0c>>\n",
        "<class 'xml.etree.ElementTree.Element'>\n",
        "tag= transcript  attrib= {'name': 't1'} <bound method Element.getchildren of <Element 'transcript' at 0xaa62f6c>>\n",
        "<class 'xml.etree.ElementTree.Element'>\n",
        "tag= annotation_set  attrib= {} <bound method Element.getchildren of <Element 'annotation_set' at 0xaa7526c>>\n",
        "<class 'xml.etree.ElementTree.Element'>\n",
        "tag= annotation_set  attrib= {} <bound method Element.getchildren of <Element 'annotation_set' at 0xaa7760c>>\n",
        "<class 'xml.etree.ElementTree.Element'>\n",
        "tag= annotation_set  attrib= {} <bound method Element.getchildren of <Element 'annotation_set' at 0xab9daac>>\n",
        "<class 'xml.etree.ElementTree.Element'>\n",
        "tag= annotation_set  attrib= {} <bound method Element.getchildren of <Element 'annotation_set' at 0xacb578c>>\n"
       ]
      }
     ],
     "prompt_number": 37
    },
    {
     "cell_type": "code",
     "collapsed": false,
     "input": [],
     "language": "python",
     "metadata": {},
     "outputs": []
    }
   ],
   "metadata": {}
  }
 ]
}