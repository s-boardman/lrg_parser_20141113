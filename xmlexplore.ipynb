{
 "metadata": {
  "name": ""
 },
 "nbformat": 3,
 "nbformat_minor": 0,
 "worksheets": [
  {
   "cells": [
    {
     "cell_type": "code",
     "collapsed": false,
     "input": [
      "import xml.etree.ElementTree as ET"
     ],
     "language": "python",
     "metadata": {},
     "outputs": [],
     "prompt_number": 15
    },
    {
     "cell_type": "code",
     "collapsed": false,
     "input": [
      "tree = ET.parse('LRG_292.xml')"
     ],
     "language": "python",
     "metadata": {},
     "outputs": [],
     "prompt_number": 16
    },
    {
     "cell_type": "code",
     "collapsed": false,
     "input": [
      "root = tree.getroot()"
     ],
     "language": "python",
     "metadata": {},
     "outputs": [],
     "prompt_number": 41
    },
    {
     "cell_type": "code",
     "collapsed": false,
     "input": [
      "print root.tag, root.attrib"
     ],
     "language": "python",
     "metadata": {},
     "outputs": [
      {
       "output_type": "stream",
       "stream": "stdout",
       "text": [
        "lrg {'schema_version': '1.8'}\n"
       ]
      }
     ],
     "prompt_number": 18
    },
    {
     "cell_type": "code",
     "collapsed": false,
     "input": [
      "for e in root: print e.tag"
     ],
     "language": "python",
     "metadata": {},
     "outputs": [
      {
       "output_type": "stream",
       "stream": "stdout",
       "text": [
        "fixed_annotation\n",
        "updatable_annotation\n"
       ]
      }
     ],
     "prompt_number": 42
    },
    {
     "cell_type": "code",
     "collapsed": false,
     "input": [
      "def full_seq_retrieve(tree_at_root):\n",
      "    '''Takes a tree parsed with xml.etree at the root node\n",
      "    and returns a dictionary with tuples of sequence type and sequence'''\n",
      "    seq_dict = {}\n",
      "    l0 = tree_at_root\n",
      "    for l1 in l0.findall('fixed_annotation'):\n",
      "        for l2 in l1.findall('sequence'): #Identify genomic sequence element\n",
      "            # Add genomic sequence to seq_dict\n",
      "            seq_dict['genomic'] = l2.text\n",
      "            print 'gDNA length:', len(l2.text)\n",
      "        for l2 in l1.findall('transcript'): #Identify transcript element\n",
      "            for l3 in l2.findall('cdna'): #Identify cdna element\n",
      "                #print great.tag\n",
      "                #Add cDNA sequence to seq_dict\n",
      "                for l4 in l3.findall('sequence'):\n",
      "                    seq_dict['cDNA'] = l4.text\n",
      "                    print 'cDNA length:', len(l4.text)\n",
      "            for l3 in l2.findall('coding_region'):\n",
      "                for l4 in l3.findall('translation'):\n",
      "                    for l5 in l4:\n",
      "                        #Add protein sequence to seq_dict\n",
      "                        if l5.tag == 'sequence':\n",
      "                            seq_dict['protein'] = l5.text\n",
      "                            print 'Protein length:', len(l5.text)\n",
      "    return seq_dict\n",
      "            \n",
      "                    \n",
      "seq_dict = full_seq_retrieve(root)\n",
      "print 'Length of seq_dict: ', len(seq_dict)"
     ],
     "language": "python",
     "metadata": {},
     "outputs": [
      {
       "output_type": "stream",
       "stream": "stdout",
       "text": [
        "gDNA length: 193689\n",
        "cDNA length: 7207\n",
        "Protein length: 1863\n",
        "Length of seq_dict:  3\n"
       ]
      }
     ],
     "prompt_number": 20
    },
    {
     "cell_type": "code",
     "collapsed": false,
     "input": [
      "def exon_coord_retrieve(tree_at_root):\n",
      "    '''Takes a tree parsed with xml.etree at the root node\n",
      "    and returns a nested dictionary of exons and coordinates'''\n",
      "    exon_dict_genomic = {}\n",
      "    exon_dict_cdna = {}\n",
      "    exon_dict_protein = {}\n",
      "    l0 = tree_at_root\n",
      "    for l1 in l0.findall('fixed_annotation'):\n",
      "        for l2 in l1.findall('transcript'): #Identify transcript element\n",
      "            for l3 in l2.find('exon'):\n",
      "                pass\n",
      "    return [exon_dict_genomic, exon_dict_cdna, exon_dict_protein]\n",
      "            \n",
      "exon_coord_retrieve(root)"
     ],
     "language": "python",
     "metadata": {},
     "outputs": [
      {
       "ename": "IndentationError",
       "evalue": "expected an indented block (<ipython-input-48-1dc3b08368cb>, line 11)",
       "output_type": "pyerr",
       "traceback": [
        "\u001b[1;36m  File \u001b[1;32m\"<ipython-input-48-1dc3b08368cb>\"\u001b[1;36m, line \u001b[1;32m11\u001b[0m\n\u001b[1;33m    return [exon_dict_genomic, exon_dict_cdna, exon_dict_protein]\u001b[0m\n\u001b[1;37m    ^\u001b[0m\n\u001b[1;31mIndentationError\u001b[0m\u001b[1;31m:\u001b[0m expected an indented block\n"
       ]
      }
     ],
     "prompt_number": 48
    },
    {
     "cell_type": "code",
     "collapsed": false,
     "input": [],
     "language": "python",
     "metadata": {},
     "outputs": []
    }
   ],
   "metadata": {}
  }
 ]
}