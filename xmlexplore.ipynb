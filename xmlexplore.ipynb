{
 "metadata": {
  "name": ""
 },
 "nbformat": 3,
 "nbformat_minor": 0,
 "worksheets": [
  {
   "cells": [
    {
     "cell_type": "code",
     "collapsed": false,
     "input": [
      "import xml.etree.ElementTree as ET"
     ],
     "language": "python",
     "metadata": {},
     "outputs": [],
     "prompt_number": 1
    },
    {
     "cell_type": "code",
     "collapsed": false,
     "input": [
      "tree = ET.parse('LRG_292.xml')"
     ],
     "language": "python",
     "metadata": {},
     "outputs": [],
     "prompt_number": 2
    },
    {
     "cell_type": "code",
     "collapsed": false,
     "input": [
      "root = tree.getroot()"
     ],
     "language": "python",
     "metadata": {},
     "outputs": [],
     "prompt_number": 20
    },
    {
     "cell_type": "code",
     "collapsed": false,
     "input": [
      "print root.attrib"
     ],
     "language": "python",
     "metadata": {},
     "outputs": [
      {
       "output_type": "stream",
       "stream": "stdout",
       "text": [
        "{'schema_version': '1.8'}\n"
       ]
      }
     ],
     "prompt_number": 21
    },
    {
     "cell_type": "code",
     "collapsed": false,
     "input": [
      "for child in root:\n",
      "        seq_dict = {}\n",
      "        if child.tag == 'fixed_annotation':\n",
      "            print \"tag=\",child.tag, \" attrib=\",child.attrib\n",
      "            for c in child:\n",
      "                #print type(c)\n",
      "                print \"tag=\",c.tag, \" Attrib: \",c.attrib, \" Text: \", c.text[:60]\n",
      "                if c.tag == 'sequence': seq = c.text # store the value of c.text as a dictionary tuple with the seq name as the key\n",
      "        else: pass\n",
      "        print seq[:10]"
     ],
     "language": "python",
     "metadata": {},
     "outputs": [
      {
       "output_type": "stream",
       "stream": "stdout",
       "text": [
        "tag= fixed_annotation  attrib= {}\n",
        "tag= id  Attrib:  {}  Text:  LRG_292\n",
        "tag= hgnc_id  Attrib:  {}  Text:  1100\n",
        "tag= sequence_source  Attrib:  {}  Text:  NG_005905.2\n",
        "tag= organism  Attrib:  {'taxon': '9606'}  Text:  Homo sapiens\n",
        "tag= source  Attrib:  {}  Text:  \n",
        "      \n",
        "tag= source  Attrib:  {}  Text:  \n",
        "      \n",
        "tag= mol_type  Attrib:  {}  Text:  dna\n",
        "tag= creation_date  Attrib:  {}  Text:  2011-06-28\n",
        "tag= sequence  Attrib:  {}  Text:  TGTGTGTATGAAGTTAACTTCAAAGCAAGCTTCCTGTGCTGAGGGGGTGGGAGGTAAGGG\n",
        "tag= transcript  Attrib:  {'name': 't1'}  Text:  \n",
        "      \n",
        "TGTGTGTATG\n",
        "TGTGTGTATG\n"
       ]
      }
     ],
     "prompt_number": 53
    },
    {
     "cell_type": "code",
     "collapsed": false,
     "input": [],
     "language": "python",
     "metadata": {},
     "outputs": []
    }
   ],
   "metadata": {}
  }
 ]
}